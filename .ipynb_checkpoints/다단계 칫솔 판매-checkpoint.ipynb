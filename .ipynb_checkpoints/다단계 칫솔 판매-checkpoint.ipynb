{
 "cells": [
  {
   "cell_type": "code",
   "execution_count": 22,
   "id": "f5154ef1",
   "metadata": {},
   "outputs": [],
   "source": [
    "def solution(enroll, referral, seller, amount):\n",
    "    tree = {'-': 'root'}\n",
    "    sell = {'-':0}\n",
    "    for i in range(len(enroll)):\n",
    "        child = enroll[i]\n",
    "        parent = referral[i]\n",
    "        sell[child] = 0\n",
    "        tree[child] = parent\n",
    "    \n",
    "    for i,j in zip(seller,amount):\n",
    "        child = i\n",
    "        parent = tree[child]\n",
    "        money = j*100\n",
    "        sell[child] += money\n",
    "        while True:\n",
    "            commision = money // 10\n",
    "            sell[child] -= commision\n",
    "            sell[parent] += commision\n",
    "            child = parent\n",
    "            parent = tree[child]\n",
    "            money = commision\n",
    "            if commision == 0 :\n",
    "                break\n",
    "            if parent == 'root':\n",
    "                break\n",
    "    ans = []\n",
    "    for i in enroll:\n",
    "        ans.append(sell[i])\n",
    "    return ans"
   ]
  },
  {
   "cell_type": "code",
   "execution_count": 23,
   "id": "dd64ca45",
   "metadata": {},
   "outputs": [
    {
     "name": "stdout",
     "output_type": "stream",
     "text": [
      "{'-': 146, 'john': 360, 'mary': 958, 'edward': 108, 'sam': 0, 'emily': 450, 'jaimie': 18, 'tod': 180, 'young': 1080}\n"
     ]
    },
    {
     "data": {
      "text/plain": [
       "[360, 958, 108, 0, 450, 18, 180, 1080]"
      ]
     },
     "execution_count": 23,
     "metadata": {},
     "output_type": "execute_result"
    }
   ],
   "source": [
    "# enroll\treferral\tseller\tamount\tresult\n",
    "solution([\"john\", \"mary\", \"edward\", \"sam\", \"emily\", \"jaimie\", \"tod\", \"young\"],\n",
    "        [\"-\", \"-\", \"mary\", \"edward\", \"mary\", \"mary\", \"jaimie\", \"edward\"],\n",
    "        [\"young\", \"john\", \"tod\", \"emily\", \"mary\"],\n",
    "        [12, 4, 2, 5, 10])"
   ]
  },
  {
   "cell_type": "code",
   "execution_count": 53,
   "id": "b891ea3a",
   "metadata": {},
   "outputs": [],
   "source": [
    "def solution(enroll, referral, seller, amount):\n",
    "    family = {'-':'root'} # 자식:부모\n",
    "    sell = {'-':0}\n",
    "    for i,j in zip(enroll,referral):\n",
    "        sell[i] = 0\n",
    "        family[i] = j\n",
    "    for i,j in zip(seller, amount):\n",
    "        child = i\n",
    "        parent = family[i]\n",
    "        price = 100*j\n",
    "        sell[child] += price\n",
    "        while parent!='root':\n",
    "            commision = price//10\n",
    "            sell[child] -= commision\n",
    "            sell[parent] += commision\n",
    "            child = parent\n",
    "            parent = family[parent]\n",
    "            price = commision\n",
    "            if commision//10 == 0:\n",
    "                break\n",
    "    answer = []\n",
    "    for p in enroll:\n",
    "        answer.append(sell[p])\n",
    "            \n",
    "    return answer\n",
    "        \n",
    "    \n",
    "    "
   ]
  },
  {
   "cell_type": "code",
   "execution_count": 54,
   "id": "8c95cff4",
   "metadata": {},
   "outputs": [
    {
     "data": {
      "text/plain": [
       "[360, 958, 108, 0, 450, 18, 180, 1080]"
      ]
     },
     "execution_count": 54,
     "metadata": {},
     "output_type": "execute_result"
    }
   ],
   "source": [
    "# enroll\treferral\tseller\tamount\tresult\n",
    "solution([\"john\", \"mary\", \"edward\", \"sam\", \"emily\", \"jaimie\", \"tod\", \"young\"],\n",
    "         [\"-\", \"-\", \"mary\", \"edward\", \"mary\", \"mary\", \"jaimie\", \"edward\"],\n",
    "        [\"young\", \"john\", \"tod\", \"emily\", \"mary\"],\n",
    "        [12, 4, 2, 5, 10])"
   ]
  },
  {
   "cell_type": "code",
   "execution_count": null,
   "id": "ba8033a7",
   "metadata": {},
   "outputs": [],
   "source": []
  }
 ],
 "metadata": {
  "kernelspec": {
   "display_name": "Python 3",
   "language": "python",
   "name": "python3"
  },
  "language_info": {
   "codemirror_mode": {
    "name": "ipython",
    "version": 3
   },
   "file_extension": ".py",
   "mimetype": "text/x-python",
   "name": "python",
   "nbconvert_exporter": "python",
   "pygments_lexer": "ipython3",
   "version": "3.8.8"
  }
 },
 "nbformat": 4,
 "nbformat_minor": 5
}
