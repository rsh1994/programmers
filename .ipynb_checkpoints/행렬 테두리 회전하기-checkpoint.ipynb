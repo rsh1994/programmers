{
 "cells": [
  {
   "cell_type": "code",
   "execution_count": 103,
   "id": "64ae6e0a",
   "metadata": {},
   "outputs": [],
   "source": [
    "def visual(arr):\n",
    "    for i in arr:\n",
    "        for j in i:\n",
    "            print(j,end='\\t')\n",
    "        print()\n",
    "\n",
    "def rotation(arr,x1,y1,x2,y2):\n",
    "    rotation_list = []\n",
    "    x1 -= 1\n",
    "    x2 -= 1\n",
    "    y1 -= 1\n",
    "    y2 -= 1\n",
    "    temp = arr[x1][y2]\n",
    "    for i in range(y2-y1,0,-1):\n",
    "        arr[x1][y1+i] = arr[x1][y1+i-1]\n",
    "        rotation_list.append(arr[x1][y1+i])\n",
    "    for i in range(0,x2-x1,1):\n",
    "        arr[x1+i][y1] = arr[x1+i+1][y1]\n",
    "        rotation_list.append(arr[x1+i][y1])\n",
    "    for i in range(0,y2-y1,1):\n",
    "        arr[x2][y1+i] = arr[x2][y1+i+1]\n",
    "        rotation_list.append(arr[x2][y1+i])\n",
    "    for i in range(x2-x1,1,-1):\n",
    "        arr[x1+i][y2] = arr[x1+i-1][y2]\n",
    "        rotation_list.append(arr[x1+i][y2])\n",
    "    arr[x1+1][y2] = temp\n",
    "    rotation_list.append(temp)\n",
    "    \n",
    "    return [arr,min(rotation_list)]\n",
    "    \n",
    "\n",
    "def solution(rows, columns, queries):\n",
    "    answer = []\n",
    "    arr = []\n",
    "    for i in range(rows):\n",
    "        temp = []\n",
    "        for j in range(1,columns+1):\n",
    "            temp.append(i*columns + j)\n",
    "        arr.append(temp)\n",
    "    for query in queries:\n",
    "        answer.append(rotation(arr,query[0],query[1],query[2],query[3])[1])\n",
    "    return answer"
   ]
  },
  {
   "cell_type": "code",
   "execution_count": 104,
   "id": "ff1efcdc",
   "metadata": {},
   "outputs": [
    {
     "data": {
      "text/plain": [
       "[8, 10, 25]"
      ]
     },
     "execution_count": 104,
     "metadata": {},
     "output_type": "execute_result"
    }
   ],
   "source": [
    "solution(6,6,[[2,2,5,4],[3,3,6,6],[5,1,6,3]])"
   ]
  },
  {
   "cell_type": "code",
   "execution_count": 105,
   "id": "ae801735",
   "metadata": {},
   "outputs": [
    {
     "data": {
      "text/plain": [
       "[1, 1, 5, 3]"
      ]
     },
     "execution_count": 105,
     "metadata": {},
     "output_type": "execute_result"
    }
   ],
   "source": [
    "solution(3,3,[[1,1,2,2],[1,2,2,3],[2,1,3,2],[2,2,3,3]])"
   ]
  },
  {
   "cell_type": "code",
   "execution_count": 106,
   "id": "809b3e87",
   "metadata": {},
   "outputs": [
    {
     "data": {
      "text/plain": [
       "[1]"
      ]
     },
     "execution_count": 106,
     "metadata": {},
     "output_type": "execute_result"
    }
   ],
   "source": [
    "solution(100,97,[[1,1,100,97]])"
   ]
  },
  {
   "cell_type": "code",
   "execution_count": null,
   "id": "0250660b",
   "metadata": {},
   "outputs": [],
   "source": []
  }
 ],
 "metadata": {
  "kernelspec": {
   "display_name": "Python 3",
   "language": "python",
   "name": "python3"
  },
  "language_info": {
   "codemirror_mode": {
    "name": "ipython",
    "version": 3
   },
   "file_extension": ".py",
   "mimetype": "text/x-python",
   "name": "python",
   "nbconvert_exporter": "python",
   "pygments_lexer": "ipython3",
   "version": "3.8.8"
  }
 },
 "nbformat": 4,
 "nbformat_minor": 5
}
