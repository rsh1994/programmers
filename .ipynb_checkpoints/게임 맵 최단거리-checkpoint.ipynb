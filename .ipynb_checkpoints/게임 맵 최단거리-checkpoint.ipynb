{
 "cells": [
  {
   "cell_type": "code",
   "execution_count": 18,
   "id": "62b8d8e6",
   "metadata": {},
   "outputs": [],
   "source": [
    "from collections import deque\n",
    "\n",
    "def solution(maps):\n",
    "    answer = 0\n",
    "        \n",
    "    dx = [-1,1,0,0]\n",
    "    dy = [0,0,-1,1]\n",
    "    \n",
    "    r = len(maps)\n",
    "    c = len(maps[0])\n",
    "    \n",
    "    graph = [[-1 for _ in range(c)] for _ in range(r)]\n",
    "    \n",
    "    queue = deque()\n",
    "    queue.append([0,0])\n",
    "    \n",
    "    graph[0][0] = 1\n",
    "    \n",
    "    while queue:\n",
    "        y, x = queue.popleft()\n",
    "        \n",
    "        for i in range(4):\n",
    "            nx = x + dx[i]\n",
    "            ny = y + dy[i]\n",
    "            \n",
    "            if 0 <= ny < r and 0 <= nx < c and maps[ny][nx] == 1:\n",
    "                if graph[ny][nx] == -1:\n",
    "                    graph[ny][nx] = graph[y][x] + 1\n",
    "                    queue.append([ny,nx])\n",
    "    answer = graph[-1][-1]\n",
    "    for i in graph:\n",
    "        for j in i:\n",
    "            if j==-1:\n",
    "                print('■',end='\\t')\n",
    "            else:\n",
    "                print(j,end='\\t')\n",
    "        print()\n",
    "    return answer"
   ]
  },
  {
   "cell_type": "code",
   "execution_count": 19,
   "id": "439e9990",
   "metadata": {},
   "outputs": [
    {
     "name": "stdout",
     "output_type": "stream",
     "text": [
      "1\t■\t9\t10\t11\t\n",
      "2\t■\t8\t■\t10\t\n",
      "3\t■\t7\t8\t9\t\n",
      "4\t5\t6\t■\t10\t\n",
      "■\t■\t■\t■\t11\t\n"
     ]
    },
    {
     "data": {
      "text/plain": [
       "11"
      ]
     },
     "execution_count": 19,
     "metadata": {},
     "output_type": "execute_result"
    }
   ],
   "source": [
    "solution([[1,0,1,1,1],[1,0,1,0,1],[1,0,1,1,1],[1,1,1,0,1],[0,0,0,0,1]])"
   ]
  },
  {
   "cell_type": "code",
   "execution_count": 20,
   "id": "b49aba05",
   "metadata": {},
   "outputs": [
    {
     "name": "stdout",
     "output_type": "stream",
     "text": [
      "1\t■\t9\t10\t11\t\n",
      "2\t■\t8\t■\t10\t\n",
      "3\t■\t7\t8\t9\t\n",
      "4\t5\t6\t■\t■\t\n",
      "■\t■\t■\t■\t■\t\n"
     ]
    },
    {
     "data": {
      "text/plain": [
       "-1"
      ]
     },
     "execution_count": 20,
     "metadata": {},
     "output_type": "execute_result"
    }
   ],
   "source": [
    "solution([[1,0,1,1,1],[1,0,1,0,1],[1,0,1,1,1],[1,1,1,0,0],[0,0,0,0,1]])"
   ]
  },
  {
   "cell_type": "code",
   "execution_count": 61,
   "id": "1606b745",
   "metadata": {},
   "outputs": [],
   "source": [
    "from collections import deque\n",
    "\n",
    "def solution(maps):\n",
    "    answer = 0\n",
    "    r = len(maps)\n",
    "    c = len(maps[0])\n",
    "    \n",
    "    graph = [[-1 for _ in range(c)] for _ in range(r)]\n",
    "    \n",
    "    dx = [-1,1,0,0]\n",
    "    dy = [0,0,-1,1]\n",
    "    \n",
    "    queue = deque()\n",
    "    queue.append([0,0])\n",
    "    graph[0][0] = 1\n",
    "    \n",
    "    while queue:\n",
    "        y, x = queue.popleft()\n",
    "        \n",
    "        for i in range(4):\n",
    "            ny = y + dy[i]\n",
    "            nx = x + dx[i]\n",
    "        \n",
    "            if 0<=ny<r and 0<=nx< c and maps[ny][nx]==1:# 갈 수 있는 상황\n",
    "                if graph[ny][nx] == -1:\n",
    "                    graph[ny][nx] = graph[y][x] + 1\n",
    "                    queue.append([ny,nx])\n",
    "        #for i in graph:\n",
    "        #    print(i)\n",
    "           \n",
    "    answer = graph[-1][-1] \n",
    "    \n",
    "    return answer"
   ]
  },
  {
   "cell_type": "code",
   "execution_count": 62,
   "id": "9fe34e65",
   "metadata": {},
   "outputs": [
    {
     "data": {
      "text/plain": [
       "11"
      ]
     },
     "execution_count": 62,
     "metadata": {},
     "output_type": "execute_result"
    }
   ],
   "source": [
    "solution([[1,0,1,1,1],[1,0,1,0,1],[1,0,1,1,1],[1,1,1,0,1],[0,0,0,0,1]])"
   ]
  },
  {
   "cell_type": "code",
   "execution_count": 63,
   "id": "a11c34a6",
   "metadata": {},
   "outputs": [
    {
     "data": {
      "text/plain": [
       "-1"
      ]
     },
     "execution_count": 63,
     "metadata": {},
     "output_type": "execute_result"
    }
   ],
   "source": [
    "solution([[1,0,1,1,1],[1,0,1,0,1],[1,0,1,1,1],[1,1,1,0,0],[0,0,0,0,1]])"
   ]
  },
  {
   "cell_type": "code",
   "execution_count": null,
   "id": "722e02cf",
   "metadata": {},
   "outputs": [],
   "source": []
  }
 ],
 "metadata": {
  "kernelspec": {
   "display_name": "Python 3",
   "language": "python",
   "name": "python3"
  },
  "language_info": {
   "codemirror_mode": {
    "name": "ipython",
    "version": 3
   },
   "file_extension": ".py",
   "mimetype": "text/x-python",
   "name": "python",
   "nbconvert_exporter": "python",
   "pygments_lexer": "ipython3",
   "version": "3.8.8"
  }
 },
 "nbformat": 4,
 "nbformat_minor": 5
}
