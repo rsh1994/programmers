{
 "cells": [
  {
   "cell_type": "code",
   "execution_count": 11,
   "id": "77ca03fa",
   "metadata": {},
   "outputs": [],
   "source": [
    "def solution(sizes):\n",
    "    answer = 0\n",
    "    max1 = 0\n",
    "    max2 = 0\n",
    "    for i,j in sizes:\n",
    "        if i > j:\n",
    "            if i > max1:\n",
    "                max1 = i\n",
    "            if j > max2:\n",
    "                max2 = j\n",
    "        else:\n",
    "            if j > max1:\n",
    "                max1 = j\n",
    "            if i > max2:\n",
    "                max2 = i\n",
    "    return max1*max2"
   ]
  },
  {
   "cell_type": "code",
   "execution_count": 12,
   "id": "e886d5ec",
   "metadata": {},
   "outputs": [
    {
     "name": "stdout",
     "output_type": "stream",
     "text": [
      "80 50\n"
     ]
    },
    {
     "data": {
      "text/plain": [
       "4000"
      ]
     },
     "execution_count": 12,
     "metadata": {},
     "output_type": "execute_result"
    }
   ],
   "source": [
    "solution([[60, 50], [30, 70], [60, 30], [80, 40]])"
   ]
  },
  {
   "cell_type": "code",
   "execution_count": 13,
   "id": "4401303f",
   "metadata": {},
   "outputs": [
    {
     "name": "stdout",
     "output_type": "stream",
     "text": [
      "15 8\n"
     ]
    },
    {
     "data": {
      "text/plain": [
       "120"
      ]
     },
     "execution_count": 13,
     "metadata": {},
     "output_type": "execute_result"
    }
   ],
   "source": [
    "solution([[10, 7], [12, 3], [8, 15], [14, 7], [5, 15]])"
   ]
  },
  {
   "cell_type": "code",
   "execution_count": null,
   "id": "9e433958",
   "metadata": {},
   "outputs": [],
   "source": []
  }
 ],
 "metadata": {
  "kernelspec": {
   "display_name": "Python 3",
   "language": "python",
   "name": "python3"
  },
  "language_info": {
   "codemirror_mode": {
    "name": "ipython",
    "version": 3
   },
   "file_extension": ".py",
   "mimetype": "text/x-python",
   "name": "python",
   "nbconvert_exporter": "python",
   "pygments_lexer": "ipython3",
   "version": "3.8.8"
  }
 },
 "nbformat": 4,
 "nbformat_minor": 5
}
