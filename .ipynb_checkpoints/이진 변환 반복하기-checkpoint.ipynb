{
 "cells": [
  {
   "cell_type": "code",
   "execution_count": 54,
   "id": "c488730c",
   "metadata": {},
   "outputs": [],
   "source": [
    "def solution(s):\n",
    "    answer = []\n",
    "    del_count = 0\n",
    "    cal_count = 0\n",
    "    while s!='1':\n",
    "        # Step1. 0 없애기\n",
    "        temp = ''\n",
    "        for i in s:\n",
    "            if i == '0':\n",
    "                del_count += 1\n",
    "            elif i == '1':\n",
    "                temp += i\n",
    "        # Step2. 자릿수로 바꾸기\n",
    "        s = bin(len(temp))[2:]\n",
    "        s = str(s)\n",
    "        cal_count += 1\n",
    "    return [cal_count,del_count]"
   ]
  },
  {
   "cell_type": "code",
   "execution_count": 55,
   "id": "2b1897d3",
   "metadata": {},
   "outputs": [
    {
     "data": {
      "text/plain": [
       "[3, 8]"
      ]
     },
     "execution_count": 55,
     "metadata": {},
     "output_type": "execute_result"
    }
   ],
   "source": [
    "solution(\"110010101001\")"
   ]
  },
  {
   "cell_type": "code",
   "execution_count": 56,
   "id": "89b1441c",
   "metadata": {},
   "outputs": [
    {
     "data": {
      "text/plain": [
       "[3, 3]"
      ]
     },
     "execution_count": 56,
     "metadata": {},
     "output_type": "execute_result"
    }
   ],
   "source": [
    "solution(\"01110\")"
   ]
  },
  {
   "cell_type": "code",
   "execution_count": 57,
   "id": "adfc7ea3",
   "metadata": {},
   "outputs": [
    {
     "data": {
      "text/plain": [
       "[1, 1]"
      ]
     },
     "execution_count": 57,
     "metadata": {},
     "output_type": "execute_result"
    }
   ],
   "source": [
    "solution(\"10\")"
   ]
  },
  {
   "cell_type": "code",
   "execution_count": null,
   "id": "e4ea0b85",
   "metadata": {},
   "outputs": [],
   "source": []
  }
 ],
 "metadata": {
  "kernelspec": {
   "display_name": "Python 3",
   "language": "python",
   "name": "python3"
  },
  "language_info": {
   "codemirror_mode": {
    "name": "ipython",
    "version": 3
   },
   "file_extension": ".py",
   "mimetype": "text/x-python",
   "name": "python",
   "nbconvert_exporter": "python",
   "pygments_lexer": "ipython3",
   "version": "3.8.8"
  }
 },
 "nbformat": 4,
 "nbformat_minor": 5
}
