{
 "cells": [
  {
   "cell_type": "code",
   "execution_count": 49,
   "id": "bb15111c",
   "metadata": {},
   "outputs": [],
   "source": [
    "def solution(N, stages):\n",
    "    stage = []\n",
    "    p = len(stages)\n",
    "    for i in range(1,N+2):\n",
    "        temp = stages.count(i)\n",
    "        \n",
    "        if p == 0:\n",
    "            stage.append([i,0])\n",
    "        else:\n",
    "            stage.append([i,temp/(p)])\n",
    "        p -= temp\n",
    "    stage.pop()\n",
    "    stage.sort(key = lambda x :(-x[1],x[0]))\n",
    "    return [i[0] for i in stage]"
   ]
  },
  {
   "cell_type": "code",
   "execution_count": 50,
   "id": "67504212",
   "metadata": {},
   "outputs": [
    {
     "data": {
      "text/plain": [
       "[3, 4, 2, 1, 5]"
      ]
     },
     "execution_count": 50,
     "metadata": {},
     "output_type": "execute_result"
    }
   ],
   "source": [
    "solution(5,[2, 1, 2, 6, 2, 4, 3, 3])"
   ]
  },
  {
   "cell_type": "code",
   "execution_count": 51,
   "id": "ef4bd700",
   "metadata": {},
   "outputs": [
    {
     "data": {
      "text/plain": [
       "[4, 1, 2, 3]"
      ]
     },
     "execution_count": 51,
     "metadata": {},
     "output_type": "execute_result"
    }
   ],
   "source": [
    "solution(4,[4,4,4,4,4])"
   ]
  }
 ],
 "metadata": {
  "kernelspec": {
   "display_name": "Python 3",
   "language": "python",
   "name": "python3"
  },
  "language_info": {
   "codemirror_mode": {
    "name": "ipython",
    "version": 3
   },
   "file_extension": ".py",
   "mimetype": "text/x-python",
   "name": "python",
   "nbconvert_exporter": "python",
   "pygments_lexer": "ipython3",
   "version": "3.8.8"
  }
 },
 "nbformat": 4,
 "nbformat_minor": 5
}
