{
 "cells": [
  {
   "cell_type": "code",
   "execution_count": 49,
   "id": "2f0e7cb7",
   "metadata": {},
   "outputs": [],
   "source": [
    "def solution(begin, target, words):\n",
    "    answer = 0\n",
    "    \n",
    "    visited = {}\n",
    "    \n",
    "    if target not in words:\n",
    "        return 0\n",
    "    \n",
    "    for i in words:\n",
    "        visited[i]=0\n",
    "        \n",
    "    while begin != target:\n",
    "        for i in words:\n",
    "            visited[i]=0\n",
    "        for word in words:\n",
    "            cnt = 0\n",
    "            for a,b in zip(begin, word):\n",
    "                if a==b:\n",
    "                    cnt += 1\n",
    "            if cnt == 2 and visited[word]==0:\n",
    "                print(\"begin:\",begin,\"~~~word:\",word)\n",
    "                begin = word\n",
    "                visited[word] = 1\n",
    "                answer += 1\n",
    "            \n",
    "        print(visited)\n",
    "\n",
    "    return answer"
   ]
  },
  {
   "cell_type": "code",
   "execution_count": 50,
   "id": "0f731940",
   "metadata": {},
   "outputs": [
    {
     "name": "stdout",
     "output_type": "stream",
     "text": [
      "begin: hit ~~~word: hot\n",
      "begin: hot ~~~word: dot\n",
      "begin: dot ~~~word: dog\n",
      "begin: dog ~~~word: log\n",
      "begin: log ~~~word: cog\n",
      "{'hot': 1, 'dot': 1, 'dog': 1, 'lot': 0, 'log': 1, 'cog': 1}\n"
     ]
    },
    {
     "data": {
      "text/plain": [
       "5"
      ]
     },
     "execution_count": 50,
     "metadata": {},
     "output_type": "execute_result"
    }
   ],
   "source": [
    "solution(\"hit\",\"cog\",[\"hot\", \"dot\", \"dog\", \"lot\", \"log\", \"cog\"])"
   ]
  },
  {
   "cell_type": "code",
   "execution_count": 42,
   "id": "fe6330cb",
   "metadata": {},
   "outputs": [
    {
     "data": {
      "text/plain": [
       "0"
      ]
     },
     "execution_count": 42,
     "metadata": {},
     "output_type": "execute_result"
    }
   ],
   "source": [
    "solution(\"hit\",\"cog\",[\"hot\", \"dot\", \"dog\", \"lot\", \"log\"])"
   ]
  },
  {
   "cell_type": "code",
   "execution_count": 13,
   "id": "8d438b09",
   "metadata": {},
   "outputs": [
    {
     "name": "stdout",
     "output_type": "stream",
     "text": [
      "3\n",
      "3\n",
      "3\n"
     ]
    }
   ],
   "source": []
  },
  {
   "cell_type": "code",
   "execution_count": null,
   "id": "843f670c",
   "metadata": {},
   "outputs": [],
   "source": []
  }
 ],
 "metadata": {
  "kernelspec": {
   "display_name": "Python 3",
   "language": "python",
   "name": "python3"
  },
  "language_info": {
   "codemirror_mode": {
    "name": "ipython",
    "version": 3
   },
   "file_extension": ".py",
   "mimetype": "text/x-python",
   "name": "python",
   "nbconvert_exporter": "python",
   "pygments_lexer": "ipython3",
   "version": "3.8.8"
  }
 },
 "nbformat": 4,
 "nbformat_minor": 5
}
