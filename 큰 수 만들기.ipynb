{
 "cells": [
  {
   "cell_type": "code",
   "execution_count": 88,
   "id": "78394b04",
   "metadata": {},
   "outputs": [],
   "source": [
    "import itertools\n",
    "answer = ''\n",
    "def find_max(number,k):\n",
    "    global answer\n",
    "    if k==0:\n",
    "        return answer\n",
    "    max_1 = 0\n",
    "    for i in range(len(number)-k):\n",
    "        if int(number[i]) > max_1:\n",
    "            max_1 = int(number[i])\n",
    "            idx = i\n",
    "    answer += number[idx]\n",
    "    return find_max(number[idx:],k-1)\n",
    "\n",
    "def solution(number, k):\n",
    "    answer = ''\n",
    "    find_max(number,k)\n",
    "    return answer"
   ]
  },
  {
   "cell_type": "code",
   "execution_count": 89,
   "id": "2d52d53b",
   "metadata": {},
   "outputs": [
    {
     "data": {
      "text/plain": [
       "''"
      ]
     },
     "execution_count": 89,
     "metadata": {},
     "output_type": "execute_result"
    }
   ],
   "source": [
    "solution(\"1924\",2)"
   ]
  },
  {
   "cell_type": "code",
   "execution_count": 90,
   "id": "fd530af2",
   "metadata": {},
   "outputs": [
    {
     "data": {
      "text/plain": [
       "''"
      ]
     },
     "execution_count": 90,
     "metadata": {},
     "output_type": "execute_result"
    }
   ],
   "source": [
    "solution(\"1231234\",3)"
   ]
  },
  {
   "cell_type": "code",
   "execution_count": 91,
   "id": "3e5ca8a9",
   "metadata": {},
   "outputs": [
    {
     "data": {
      "text/plain": [
       "''"
      ]
     },
     "execution_count": 91,
     "metadata": {},
     "output_type": "execute_result"
    }
   ],
   "source": [
    "solution(\"4177252841\",4)"
   ]
  },
  {
   "cell_type": "code",
   "execution_count": null,
   "id": "25aba68d",
   "metadata": {},
   "outputs": [],
   "source": []
  }
 ],
 "metadata": {
  "kernelspec": {
   "display_name": "Python 3",
   "language": "python",
   "name": "python3"
  },
  "language_info": {
   "codemirror_mode": {
    "name": "ipython",
    "version": 3
   },
   "file_extension": ".py",
   "mimetype": "text/x-python",
   "name": "python",
   "nbconvert_exporter": "python",
   "pygments_lexer": "ipython3",
   "version": "3.8.8"
  }
 },
 "nbformat": 4,
 "nbformat_minor": 5
}
