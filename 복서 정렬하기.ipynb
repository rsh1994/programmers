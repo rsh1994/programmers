{
 "cells": [
  {
   "cell_type": "code",
   "execution_count": 50,
   "id": "f455c0f1",
   "metadata": {},
   "outputs": [],
   "source": [
    "def solution(weights, head2head):\n",
    "    answer = []\n",
    "    # [전체승률, 무거운 복서를 이긴 횟수, 자기 몸무게 크면 앞으로, 작은번호]\n",
    "    for i in range(0,len(weights)):\n",
    "        win_count_1 = 0\n",
    "        lose_count_1 = 0\n",
    "        win_count_2 = 0\n",
    "        for j in range(0,len(weights)):\n",
    "            if head2head[i][j]=='W':\n",
    "                win_count_1 += 1\n",
    "                if weights[i] < weights[j]:\n",
    "                    win_count_2 += 1\n",
    "            elif head2head[i][j]=='L':\n",
    "                lose_count_1 += 1\n",
    "        if win_count_1+lose_count_1 == 0:\n",
    "            temp = 0\n",
    "        else:\n",
    "            temp = win_count_1/(win_count_1+lose_count_1)\n",
    "        answer.append([temp,win_count_2,weights[i],i+1])\n",
    "    answer.sort(key = lambda x: (-x[0],-x[1],-x[2],x[3]))    \n",
    "    result = []\n",
    "    print(answer)\n",
    "    for i in answer:\n",
    "        result.append(i[-1])\n",
    "    return result"
   ]
  },
  {
   "cell_type": "code",
   "execution_count": 51,
   "id": "2e1a6522",
   "metadata": {},
   "outputs": [
    {
     "name": "stdout",
     "output_type": "stream",
     "text": [
      "[[0.6666666666666666, 2, 75, 3], [0.6666666666666666, 0, 120, 4], [0.3333333333333333, 1, 50, 1], [0.3333333333333333, 0, 82, 2]]\n"
     ]
    },
    {
     "data": {
      "text/plain": [
       "[3, 4, 1, 2]"
      ]
     },
     "execution_count": 51,
     "metadata": {},
     "output_type": "execute_result"
    }
   ],
   "source": [
    "solution([50,82,75,120],[\"NLWL\",\"WNLL\",\"LWNW\",\"WWLN\"])"
   ]
  },
  {
   "cell_type": "code",
   "execution_count": 52,
   "id": "347f6ac3",
   "metadata": {},
   "outputs": [
    {
     "name": "stdout",
     "output_type": "stream",
     "text": [
      "[[0.5, 1, 92, 2], [0.5, 1, 86, 3], [0.5, 0, 145, 1]]\n"
     ]
    },
    {
     "data": {
      "text/plain": [
       "[2, 3, 1]"
      ]
     },
     "execution_count": 52,
     "metadata": {},
     "output_type": "execute_result"
    }
   ],
   "source": [
    "solution([145,92,86],[\"NLW\",\"WNL\",\"LWN\"])"
   ]
  },
  {
   "cell_type": "code",
   "execution_count": 53,
   "id": "7137399c",
   "metadata": {},
   "outputs": [
    {
     "name": "stdout",
     "output_type": "stream",
     "text": [
      "[[0, 0, 70, 2], [0, 0, 60, 1], [0, 0, 60, 3]]\n"
     ]
    },
    {
     "data": {
      "text/plain": [
       "[2, 1, 3]"
      ]
     },
     "execution_count": 53,
     "metadata": {},
     "output_type": "execute_result"
    }
   ],
   "source": [
    "solution([60,70,60],[\"NNN\",\"NNN\",\"NNN\"])"
   ]
  },
  {
   "cell_type": "code",
   "execution_count": null,
   "id": "31c576d4",
   "metadata": {},
   "outputs": [],
   "source": []
  }
 ],
 "metadata": {
  "kernelspec": {
   "display_name": "Python 3",
   "language": "python",
   "name": "python3"
  },
  "language_info": {
   "codemirror_mode": {
    "name": "ipython",
    "version": 3
   },
   "file_extension": ".py",
   "mimetype": "text/x-python",
   "name": "python",
   "nbconvert_exporter": "python",
   "pygments_lexer": "ipython3",
   "version": "3.8.8"
  }
 },
 "nbformat": 4,
 "nbformat_minor": 5
}
