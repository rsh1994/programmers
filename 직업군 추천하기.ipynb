{
 "cells": [
  {
   "cell_type": "code",
   "execution_count": 83,
   "id": "5fcfb685",
   "metadata": {},
   "outputs": [],
   "source": [
    "def solution(table, languages, preference):\n",
    "    answer = 0\n",
    "    kind = []\n",
    "    for i in table:\n",
    "        i = i.split(\" \") # 한줄을 떼어냄\n",
    "        title = i.pop(0) # 맨앞의 직업군을 pop해서 title에 저장\n",
    "        for a,b in zip(i,range(5,0,-1)):\n",
    "            if a in languages:\n",
    "                # 가중와 언어점수를 곱해서 answer에 저장\n",
    "                answer += preference[languages.index(a)]*int(b) \n",
    "        kind.append([title,answer]) # 다 더해진 직업군 별 점수를 배열로 저장\n",
    "        answer = 0 # answer 초기화\n",
    "    kind = sorted(kind, key = lambda x:(-x[1],x[0])) # 점수, 직업군 사전순으로 정렬\n",
    "    return kind[0][0] # 맨앞의 가장 점수가 높은 직업군 리턴"
   ]
  },
  {
   "cell_type": "code",
   "execution_count": 84,
   "id": "06e3b92e",
   "metadata": {},
   "outputs": [
    {
     "data": {
      "text/plain": [
       "'HARDWARE'"
      ]
     },
     "execution_count": 84,
     "metadata": {},
     "output_type": "execute_result"
    }
   ],
   "source": [
    "solution([\"SI JAVA JAVASCRIPT SQL PYTHON C#\", \"CONTENTS JAVASCRIPT JAVA PYTHON SQL C++\", \"HARDWARE C C++ PYTHON JAVA JAVASCRIPT\", \"PORTAL JAVA JAVASCRIPT PYTHON KOTLIN PHP\", \"GAME C++ C# JAVASCRIPT C JAVA\"],[\"PYTHON\", \"C++\", \"SQL\"],[7,5,5])"
   ]
  },
  {
   "cell_type": "code",
   "execution_count": 82,
   "id": "3b3e29a5",
   "metadata": {},
   "outputs": [
    {
     "data": {
      "text/plain": [
       "'PORTAL'"
      ]
     },
     "execution_count": 82,
     "metadata": {},
     "output_type": "execute_result"
    }
   ],
   "source": [
    "solution([\"SI JAVA JAVASCRIPT SQL PYTHON C#\", \"CONTENTS JAVASCRIPT JAVA PYTHON SQL C++\", \"HARDWARE C C++ PYTHON JAVA JAVASCRIPT\", \"PORTAL JAVA JAVASCRIPT PYTHON KOTLIN PHP\", \"GAME C++ C# JAVASCRIPT C JAVA\"],[\"JAVA\", \"JAVASCRIPT\"],[7,5])"
   ]
  }
 ],
 "metadata": {
  "kernelspec": {
   "display_name": "Python 3",
   "language": "python",
   "name": "python3"
  },
  "language_info": {
   "codemirror_mode": {
    "name": "ipython",
    "version": 3
   },
   "file_extension": ".py",
   "mimetype": "text/x-python",
   "name": "python",
   "nbconvert_exporter": "python",
   "pygments_lexer": "ipython3",
   "version": "3.8.8"
  }
 },
 "nbformat": 4,
 "nbformat_minor": 5
}
