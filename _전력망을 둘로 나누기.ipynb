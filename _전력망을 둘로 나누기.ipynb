{
 "cells": [
  {
   "cell_type": "code",
   "execution_count": 144,
   "id": "e40a13b2",
   "metadata": {},
   "outputs": [],
   "source": [
    "from collections import deque\n",
    "\n",
    "def solution(n, wires): \n",
    "    answer = -1\n",
    "    num_list = []\n",
    "    result = []\n",
    "    \n",
    "    def bfs(x):\n",
    "        num = 1\n",
    "        visited[x] += 1\n",
    "        q.append(x)\n",
    "        while q:\n",
    "            temp = q.popleft()\n",
    "            for z in graph[temp]:\n",
    "                if visited[z] == 0:\n",
    "                    num += 1\n",
    "                    visited[z] += 1\n",
    "                    q.append(z)\n",
    "        num = 0\n",
    "                        \n",
    "    \n",
    "    for z in range(0, n-1):\n",
    "        wire = wires.copy()\n",
    "        cnt = 0\n",
    "        del wire[z]\n",
    "        graph = [[] for _ in range(n+1)]\n",
    "        visited = [0 for _ in range(n+1)] \n",
    "    \n",
    "        for a,b in wire:\n",
    "            graph[a].append(b)\n",
    "            graph[b].append(a)\n",
    "            cnt = 0\n",
    "            for i in range(1,n+1):\n",
    "                \n",
    "                if visited[i] == 0 :\n",
    "                    q = deque()\n",
    "                    cnt += 1\n",
    "                    bfs(i)\n",
    "\n",
    "\n",
    "    print(\"graph:\",graph)\n",
    "    print(\"visited:\",visited)\n",
    "    \n",
    "    print(\"num_list:\",num_list)\n",
    "            \n",
    "    return answer"
   ]
  },
  {
   "cell_type": "code",
   "execution_count": 145,
   "id": "43f28d1b",
   "metadata": {},
   "outputs": [
    {
     "name": "stdout",
     "output_type": "stream",
     "text": [
      "graph: [[], [3], [3], [1, 2, 4], [3, 5, 6, 7], [4], [4], [4, 8], [7], []]\n",
      "visited: [0, 1, 1, 1, 1, 1, 1, 1, 1, 1]\n",
      "num_list: []\n"
     ]
    },
    {
     "data": {
      "text/plain": [
       "-1"
      ]
     },
     "execution_count": 145,
     "metadata": {},
     "output_type": "execute_result"
    }
   ],
   "source": [
    "solution(9,[[1,3],[2,3],[3,4],[4,5],[4,6],[4,7],[7,8],[7,9]])"
   ]
  },
  {
   "cell_type": "code",
   "execution_count": 142,
   "id": "05e9f2e3",
   "metadata": {},
   "outputs": [
    {
     "name": "stdout",
     "output_type": "stream",
     "text": [
      "graph: [[], [2], [1, 3], [2], []]\n",
      "visited: [0, 1, 1, 1, 0]\n",
      "num_list: []\n"
     ]
    },
    {
     "data": {
      "text/plain": [
       "-1"
      ]
     },
     "execution_count": 142,
     "metadata": {},
     "output_type": "execute_result"
    }
   ],
   "source": [
    "solution(4,[[1,2],[2,3],[3,4]])"
   ]
  },
  {
   "cell_type": "code",
   "execution_count": 143,
   "id": "e867476f",
   "metadata": {},
   "outputs": [
    {
     "name": "stdout",
     "output_type": "stream",
     "text": [
      "graph: [[], [2], [1, 7], [7, 4], [3, 5], [4], [], [2, 3]]\n",
      "visited: [0, 1, 1, 1, 1, 1, 0, 1]\n",
      "num_list: []\n"
     ]
    },
    {
     "data": {
      "text/plain": [
       "-1"
      ]
     },
     "execution_count": 143,
     "metadata": {},
     "output_type": "execute_result"
    }
   ],
   "source": [
    "solution(7,[[1,2],[2,7],[3,7],[3,4],[4,5],[6,7]])"
   ]
  },
  {
   "cell_type": "code",
   "execution_count": 105,
   "id": "2f41e8b6",
   "metadata": {},
   "outputs": [
    {
     "name": "stdout",
     "output_type": "stream",
     "text": [
      "[[1, 2, 3], [4, 5, 6], [7, 8, 9]]\n"
     ]
    }
   ],
   "source": [
    "a = [[1,2,3],[4,5,6],[7,8,9]]\n",
    "print(a)"
   ]
  },
  {
   "cell_type": "code",
   "execution_count": 106,
   "id": "14843737",
   "metadata": {},
   "outputs": [
    {
     "name": "stdout",
     "output_type": "stream",
     "text": [
      "[[1, 2, 3], [], [7, 8, 9]]\n"
     ]
    }
   ],
   "source": [
    "a[1]=[]\n",
    "print(a)"
   ]
  },
  {
   "cell_type": "markdown",
   "id": "c02d52ce",
   "metadata": {},
   "source": [
    "### 다시"
   ]
  },
  {
   "cell_type": "code",
   "execution_count": 112,
   "id": "917adaee",
   "metadata": {},
   "outputs": [],
   "source": [
    "from collections import deque\n",
    "\n",
    "global num\n",
    "\n",
    "def solution(n, wires):\n",
    "    answer = -1\n",
    "    \n",
    "    result = []\n",
    "    def sub(a):\n",
    "        if len(a) == 2:\n",
    "            return abs(a[0]-a[1])\n",
    "        else:\n",
    "            return a\n",
    "    \n",
    "    if len(wires)==1:\n",
    "        return 0\n",
    "    \n",
    "    for g in range(1,n-1):\n",
    "        wire = wires.copy()\n",
    "        del wire[g]\n",
    "\n",
    "        graph = [[] for i in range(n+1)]\n",
    "        visited = [0 for i in range(n+1)]\n",
    "        sub_list = []\n",
    "        cnt = 0\n",
    "\n",
    "        for a,b in wire:\n",
    "            graph[a].append(b)\n",
    "            graph[b].append(a)\n",
    "        for i in range(1,n+1):\n",
    "\n",
    "            if visited[i] == 0:\n",
    "                q = deque()\n",
    "                q.append(i)\n",
    "                cnt += 1\n",
    "                num = 1\n",
    "\n",
    "                while q:\n",
    "                    x = q.popleft()\n",
    "                    visited[x] = 1\n",
    "                    for k in graph[x]:\n",
    "                        if visited[k] == 0:\n",
    "                            q.append(k)\n",
    "                            visited[k]=1\n",
    "                            num += 1\n",
    "                sub_list.append(num)\n",
    "        result.append(sub(sub_list))\n",
    "        \n",
    "        answer = min(result)\n",
    "\n",
    "    return answer      \n",
    "\n"
   ]
  },
  {
   "cell_type": "code",
   "execution_count": 113,
   "id": "cb5b3146",
   "metadata": {},
   "outputs": [
    {
     "data": {
      "text/plain": [
       "3"
      ]
     },
     "execution_count": 113,
     "metadata": {},
     "output_type": "execute_result"
    }
   ],
   "source": [
    "solution(9,[[1,3],[2,3],[3,4],[4,5],[4,6],[4,7],[7,8],[7,9]])"
   ]
  },
  {
   "cell_type": "code",
   "execution_count": 114,
   "id": "528b5d31",
   "metadata": {
    "scrolled": true
   },
   "outputs": [
    {
     "data": {
      "text/plain": [
       "0"
      ]
     },
     "execution_count": 114,
     "metadata": {},
     "output_type": "execute_result"
    }
   ],
   "source": [
    "solution(4,[[1,2],[2,3],[3,4]])"
   ]
  },
  {
   "cell_type": "code",
   "execution_count": 115,
   "id": "0f6b13cf",
   "metadata": {},
   "outputs": [
    {
     "data": {
      "text/plain": [
       "1"
      ]
     },
     "execution_count": 115,
     "metadata": {},
     "output_type": "execute_result"
    }
   ],
   "source": [
    "solution(7,[[1,2],[2,7],[3,7],[3,4],[4,5],[6,7]])"
   ]
  },
  {
   "cell_type": "code",
   "execution_count": 116,
   "id": "0b58c674",
   "metadata": {},
   "outputs": [
    {
     "data": {
      "text/plain": [
       "1"
      ]
     },
     "execution_count": 116,
     "metadata": {},
     "output_type": "execute_result"
    }
   ],
   "source": [
    "solution(3,[[1,2],[2,3]])"
   ]
  },
  {
   "cell_type": "code",
   "execution_count": 117,
   "id": "c17548b9",
   "metadata": {},
   "outputs": [
    {
     "data": {
      "text/plain": [
       "0"
      ]
     },
     "execution_count": 117,
     "metadata": {},
     "output_type": "execute_result"
    }
   ],
   "source": [
    "solution(2,[[1,2]])"
   ]
  },
  {
   "cell_type": "code",
   "execution_count": 118,
   "id": "6a3c0c68",
   "metadata": {},
   "outputs": [
    {
     "data": {
      "text/plain": [
       "0"
      ]
     },
     "execution_count": 118,
     "metadata": {},
     "output_type": "execute_result"
    }
   ],
   "source": [
    "solution(0,[[]])"
   ]
  },
  {
   "cell_type": "code",
   "execution_count": null,
   "id": "9fafc942",
   "metadata": {},
   "outputs": [],
   "source": []
  }
 ],
 "metadata": {
  "kernelspec": {
   "display_name": "Python 3",
   "language": "python",
   "name": "python3"
  },
  "language_info": {
   "codemirror_mode": {
    "name": "ipython",
    "version": 3
   },
   "file_extension": ".py",
   "mimetype": "text/x-python",
   "name": "python",
   "nbconvert_exporter": "python",
   "pygments_lexer": "ipython3",
   "version": "3.8.8"
  }
 },
 "nbformat": 4,
 "nbformat_minor": 5
}
